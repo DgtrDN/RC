{
 "cells": [
  {
   "cell_type": "code",
   "execution_count": 1,
   "id": "216451e1",
   "metadata": {},
   "outputs": [],
   "source": [
    "import pandas as pd"
   ]
  },
  {
   "cell_type": "code",
   "execution_count": 2,
   "id": "658d01ba",
   "metadata": {},
   "outputs": [],
   "source": [
    "recipes = pd.read_csv('РК.csv', sep=';', encoding='utf-8', usecols=range(19), skiprows=10)\n",
    "\n",
    "recipes.drop(columns=['Масса', 'Вес ингр-тов', 'Траты всего', 'Ссылка ПК', 'г'], inplace=True)\n",
    "\n",
    "for col in ['р', 'Цена за 1 кг', 'ЧП']:\n",
    "    recipes[col] = (\n",
    "        recipes[col]\n",
    "        .astype(str)\n",
    "        .str.replace('₽', '', regex=False)\n",
    "        .str.replace(',', '.', regex=False)\n",
    "    )\n",
    "    recipes[col] = pd.to_numeric(recipes[col], errors='coerce')\n",
    "    \n",
    "percent_cols = ['%', 'Потери, %', 'Маржа']\n",
    "\n",
    "for col in percent_cols:\n",
    "    recipes[col] = (\n",
    "        recipes[col]\n",
    "        .astype(str)\n",
    "        .str.replace('%', '', regex=False)\n",
    "        .str.replace(',', '.', regex=False)\n",
    "        .str.replace(' ', '', regex=False)\n",
    "    )\n",
    "    recipes[col] = pd.to_numeric(recipes[col], errors='coerce')"
   ]
  },
  {
   "cell_type": "code",
   "execution_count": 3,
   "id": "34b43825",
   "metadata": {},
   "outputs": [
    {
     "name": "stdout",
     "output_type": "stream",
     "text": [
      "Index(['Название', 'Вид', 'Способ', 'Состав', 'Тип', '%', 'р', 'Потери, %',\n",
      "       'Маржа', 'Цена за 1 кг', 'ЧП', 'Ссылка интернет', 'Наличие',\n",
      "       'Примечание'],\n",
      "      dtype='object')\n"
     ]
    }
   ],
   "source": [
    "print(recipes.columns)"
   ]
  },
  {
   "cell_type": "code",
   "execution_count": 4,
   "id": "fa6ef35a",
   "metadata": {},
   "outputs": [
    {
     "data": {
      "text/plain": [
       "array(['Докторская', 'Куриные Сырные', 'Сардельки Свиные', 'Курица ГК',\n",
       "       'Грудинка свиная ГК', 'Скумбрия ХК', 'Карась ХК', 'Горбуша ХК',\n",
       "       'Еврейская', 'Московская', 'Салями Милано', 'Сельдь пряная',\n",
       "       'Языковая кровяная', 'Ветчинно-рубленная', 'Любительская ',\n",
       "       'Ветчина Мраморная', 'Фуэт', 'Чоризо', 'Финоккьона', 'Сало ГОСТ',\n",
       "       'Краковская ', 'Дрогобычская ', 'Ветчина Семейная',\n",
       "       'Панчетта Арротолатта', 'Мортаделла', 'Детские Молочные',\n",
       "       'Свиные ребра ГК', 'Корейка ГК', 'Кабаносси', 'Хотдожные к пиву',\n",
       "       'Крепыш', 'Мортаделла Фисташка', 'Луканка', 'Чечил косичка',\n",
       "       'Панир', 'Щучья', 'Зельц', 'Куриные сливочные', 'Шашлык свиной',\n",
       "       'Пельмени свин/гов', 'Белый амур вяленый', 'Сельдь провесная',\n",
       "       'Сельдь вяленая \"Киперс\"', 'Скумбрия провесная', 'Суп Э Джо',\n",
       "       'Полтавская', 'Бекон сухой посол', 'Бекон мокрый посол', 'Рулька',\n",
       "       'Пеперони', 'Пицца тесто', 'Бешамель', 'Морковь по-корейски',\n",
       "       'Мясной хлеб', 'Холодец', 'Форель слабосолёная', 'Блины на молоке',\n",
       "       'Брауншвейгская', 'Венские'], dtype=object)"
      ]
     },
     "execution_count": 4,
     "metadata": {},
     "output_type": "execute_result"
    }
   ],
   "source": [
    "recipes['Название'].unique()"
   ]
  },
  {
   "cell_type": "code",
   "execution_count": 5,
   "id": "1227d7d0",
   "metadata": {},
   "outputs": [
    {
     "ename": "ValueError",
     "evalue": "invalid literal for int() with base 10: ''",
     "output_type": "error",
     "traceback": [
      "\u001b[1;31m---------------------------------------------------------------------------\u001b[0m",
      "\u001b[1;31mValueError\u001b[0m                                Traceback (most recent call last)",
      "Cell \u001b[1;32mIn[5], line 2\u001b[0m\n\u001b[0;32m      1\u001b[0m dish \u001b[38;5;241m=\u001b[39m \u001b[38;5;28minput\u001b[39m(\u001b[38;5;124m'\u001b[39m\u001b[38;5;124mВведите название блюда: \u001b[39m\u001b[38;5;124m'\u001b[39m)\n\u001b[1;32m----> 2\u001b[0m weight \u001b[38;5;241m=\u001b[39m \u001b[38;5;28mint\u001b[39m(\u001b[38;5;28minput\u001b[39m(\u001b[38;5;124m'\u001b[39m\u001b[38;5;124mВведите вес блюда в граммах: \u001b[39m\u001b[38;5;124m'\u001b[39m))\n\u001b[0;32m      4\u001b[0m result \u001b[38;5;241m=\u001b[39m (\n\u001b[0;32m      5\u001b[0m     recipes\u001b[38;5;241m.\u001b[39mloc[recipes[\u001b[38;5;124m'\u001b[39m\u001b[38;5;124mНазвание\u001b[39m\u001b[38;5;124m'\u001b[39m] \u001b[38;5;241m==\u001b[39m dish, [\u001b[38;5;124m'\u001b[39m\u001b[38;5;124mСостав\u001b[39m\u001b[38;5;124m'\u001b[39m, \u001b[38;5;124m'\u001b[39m\u001b[38;5;124m%\u001b[39m\u001b[38;5;124m'\u001b[39m]]\n\u001b[0;32m      6\u001b[0m     \u001b[38;5;241m.\u001b[39mcopy()\n\u001b[0;32m      7\u001b[0m )\n\u001b[0;32m      8\u001b[0m result[\u001b[38;5;124m'\u001b[39m\u001b[38;5;124mг\u001b[39m\u001b[38;5;124m'\u001b[39m] \u001b[38;5;241m=\u001b[39m result[\u001b[38;5;124m'\u001b[39m\u001b[38;5;124m%\u001b[39m\u001b[38;5;124m'\u001b[39m] \u001b[38;5;241m*\u001b[39m weight \u001b[38;5;241m/\u001b[39m \u001b[38;5;241m100\u001b[39m\n",
      "\u001b[1;31mValueError\u001b[0m: invalid literal for int() with base 10: ''"
     ]
    }
   ],
   "source": [
    "dish = input('Введите название блюда: ')\n",
    "weight = int(input('Введите вес блюда в граммах: '))\n",
    "\n",
    "result = (\n",
    "    recipes.loc[recipes['Название'] == dish, ['Состав', '%']]\n",
    "    .copy()\n",
    ")\n",
    "result['г'] = result['%'] * weight / 100\n",
    "\n",
    "print(result.sort_values('%', ascending=False))"
   ]
  },
  {
   "cell_type": "code",
   "execution_count": null,
   "id": "f33d04f1",
   "metadata": {},
   "outputs": [],
   "source": []
  }
 ],
 "metadata": {
  "kernelspec": {
   "display_name": "base",
   "language": "python",
   "name": "python3"
  },
  "language_info": {
   "codemirror_mode": {
    "name": "ipython",
    "version": 3
   },
   "file_extension": ".py",
   "mimetype": "text/x-python",
   "name": "python",
   "nbconvert_exporter": "python",
   "pygments_lexer": "ipython3",
   "version": "3.12.7"
  }
 },
 "nbformat": 4,
 "nbformat_minor": 5
}
