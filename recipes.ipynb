{
 "cells": [
  {
   "cell_type": "code",
   "execution_count": 1,
   "id": "864f1a22",
   "metadata": {},
   "outputs": [
    {
     "name": "stdout",
     "output_type": "stream",
     "text": [
      "Collecting pandas\n",
      "  Using cached pandas-2.3.0-cp310-cp310-manylinux_2_17_x86_64.manylinux2014_x86_64.whl.metadata (91 kB)\n",
      "Collecting numpy>=1.22.4 (from pandas)\n",
      "  Using cached numpy-2.2.6-cp310-cp310-manylinux_2_17_x86_64.manylinux2014_x86_64.whl.metadata (62 kB)\n",
      "Requirement already satisfied: python-dateutil>=2.8.2 in ./.venv/lib/python3.10/site-packages (from pandas) (2.9.0.post0)\n",
      "Collecting pytz>=2020.1 (from pandas)\n",
      "  Using cached pytz-2025.2-py2.py3-none-any.whl.metadata (22 kB)\n",
      "Collecting tzdata>=2022.7 (from pandas)\n",
      "  Using cached tzdata-2025.2-py2.py3-none-any.whl.metadata (1.4 kB)\n",
      "Requirement already satisfied: six>=1.5 in ./.venv/lib/python3.10/site-packages (from python-dateutil>=2.8.2->pandas) (1.17.0)\n",
      "Using cached pandas-2.3.0-cp310-cp310-manylinux_2_17_x86_64.manylinux2014_x86_64.whl (12.3 MB)\n",
      "Using cached numpy-2.2.6-cp310-cp310-manylinux_2_17_x86_64.manylinux2014_x86_64.whl (16.8 MB)\n",
      "Using cached pytz-2025.2-py2.py3-none-any.whl (509 kB)\n",
      "Using cached tzdata-2025.2-py2.py3-none-any.whl (347 kB)\n",
      "Installing collected packages: pytz, tzdata, numpy, pandas\n",
      "\u001b[2K   \u001b[90m━━━━━━━━━━━━━━━━━━━━━━━━━━━━━━━━━━━━━━━━\u001b[0m \u001b[32m4/4\u001b[0m [pandas]2m3/4\u001b[0m [pandas]\n",
      "\u001b[1A\u001b[2KSuccessfully installed numpy-2.2.6 pandas-2.3.0 pytz-2025.2 tzdata-2025.2\n"
     ]
    }
   ],
   "source": [
    "!pip install pandas"
   ]
  },
  {
   "cell_type": "code",
   "execution_count": 2,
   "id": "216451e1",
   "metadata": {},
   "outputs": [],
   "source": [
    "import pandas as pd"
   ]
  },
  {
   "cell_type": "code",
   "execution_count": 3,
   "id": "658d01ba",
   "metadata": {},
   "outputs": [],
   "source": [
    "recipes = pd.read_csv('РК.csv', sep=';', encoding='utf-8', usecols=range(19), skiprows=10)\n",
    "\n",
    "recipes.drop(columns=['Масса', 'Вес ингр-тов', 'Траты всего', 'Ссылка ПК', 'г'], inplace=True)\n",
    "\n",
    "for col in ['р', 'Цена за 1 кг', 'ЧП']:\n",
    "    recipes[col] = (\n",
    "        recipes[col]\n",
    "        .astype(str)\n",
    "        .str.replace('₽', '', regex=False)\n",
    "        .str.replace(',', '.', regex=False)\n",
    "    )\n",
    "    recipes[col] = pd.to_numeric(recipes[col], errors='coerce')\n",
    "    \n",
    "percent_cols = ['%', 'Потери, %', 'Маржа']\n",
    "\n",
    "for col in percent_cols:\n",
    "    recipes[col] = (\n",
    "        recipes[col]\n",
    "        .astype(str)\n",
    "        .str.replace('%', '', regex=False)\n",
    "        .str.replace(',', '.', regex=False)\n",
    "        .str.replace(' ', '', regex=False)\n",
    "    )\n",
    "    recipes[col] = pd.to_numeric(recipes[col], errors='coerce')"
   ]
  },
  {
   "cell_type": "code",
   "execution_count": 4,
   "id": "34b43825",
   "metadata": {},
   "outputs": [
    {
     "name": "stdout",
     "output_type": "stream",
     "text": [
      "Index(['Название', 'Вид', 'Способ', 'Состав', 'Тип', '%', 'р', 'Потери, %',\n",
      "       'Маржа', 'Цена за 1 кг', 'ЧП', 'Ссылка интернет', 'Наличие',\n",
      "       'Примечание'],\n",
      "      dtype='object')\n"
     ]
    }
   ],
   "source": [
    "print(recipes.columns)"
   ]
  },
  {
   "cell_type": "code",
   "execution_count": 5,
   "id": "fa6ef35a",
   "metadata": {},
   "outputs": [
    {
     "data": {
      "text/plain": [
       "array(['Докторская', 'Куриные Сырные', 'Сардельки Свиные', 'Курица ГК',\n",
       "       'Грудинка свиная ГК', 'Скумбрия ХК', 'Карась ХК', 'Горбуша ХК',\n",
       "       'Еврейская', 'Московская', 'Салями Милано', 'Сельдь пряная',\n",
       "       'Языковая кровяная', 'Ветчинно-рубленная', 'Любительская ',\n",
       "       'Ветчина Мраморная', 'Фуэт', 'Чоризо', 'Финоккьона', 'Сало ГОСТ',\n",
       "       'Краковская ', 'Дрогобычская ', 'Ветчина Семейная',\n",
       "       'Панчетта Арротолатта', 'Мортаделла', 'Детские Молочные',\n",
       "       'Свиные ребра ГК', 'Корейка ГК', 'Кабаносси', 'Хотдожные к пиву',\n",
       "       'Крепыш', 'Мортаделла Фисташка', 'Луканка', 'Чечил косичка',\n",
       "       'Панир', 'Щучья', 'Зельц', 'Куриные сливочные', 'Шашлык свиной',\n",
       "       'Пельмени свин/гов', 'Белый амур вяленый', 'Сельдь провесная',\n",
       "       'Сельдь вяленая \"Киперс\"', 'Скумбрия провесная', 'Суп Э Джо',\n",
       "       'Полтавская', 'Бекон сухой посол', 'Бекон мокрый посол', 'Рулька',\n",
       "       'Пеперони', 'Пицца тесто', 'Бешамель', 'Морковь по-корейски',\n",
       "       'Мясной хлеб', 'Холодец', 'Форель слабосолёная', 'Блины на молоке',\n",
       "       'Брауншвейгская', 'Венские'], dtype=object)"
      ]
     },
     "execution_count": 5,
     "metadata": {},
     "output_type": "execute_result"
    }
   ],
   "source": [
    "recipes['Название'].unique()"
   ]
  },
  {
   "cell_type": "code",
   "execution_count": 6,
   "id": "1227d7d0",
   "metadata": {},
   "outputs": [
    {
     "name": "stdout",
     "output_type": "stream",
     "text": [
      "               Состав       %       г\n",
      "292            Молоко  100.00  5000.0\n",
      "294              Вода    5.00   250.0\n",
      "293  Лимонная кислота    0.15     7.5\n",
      "295      Соль пищевая    0.10     5.0\n"
     ]
    }
   ],
   "source": [
    "dish = input('Введите название блюда: ')\n",
    "weight = int(input('Введите вес блюда в граммах: '))\n",
    "\n",
    "result = (\n",
    "    recipes.loc[recipes['Название'] == dish, ['Состав', '%']]\n",
    "    .copy()\n",
    ")\n",
    "result['г'] = result['%'] * weight / 100\n",
    "\n",
    "print(result.sort_values('%', ascending=False))"
   ]
  },
  {
   "cell_type": "code",
   "execution_count": null,
   "id": "f33d04f1",
   "metadata": {},
   "outputs": [],
   "source": []
  }
 ],
 "metadata": {
  "kernelspec": {
   "display_name": ".venv",
   "language": "python",
   "name": "python3"
  },
  "language_info": {
   "codemirror_mode": {
    "name": "ipython",
    "version": 3
   },
   "file_extension": ".py",
   "mimetype": "text/x-python",
   "name": "python",
   "nbconvert_exporter": "python",
   "pygments_lexer": "ipython3",
   "version": "3.10.12"
  }
 },
 "nbformat": 4,
 "nbformat_minor": 5
}
